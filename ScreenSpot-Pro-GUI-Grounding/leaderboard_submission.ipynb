{
 "cells": [
  {
   "cell_type": "markdown",
   "id": "6c9f1c1b",
   "metadata": {},
   "source": [
    "# ScreenSpot-Pro Leaderboard Submission Tutorial\n",
    "\n",
    "Follow the steps below to prepare your submission:\n",
    "\n",
    "1. **Run your models** using this repository. It will generate a JSON file with detailed results for each sample.\n",
    "\n",
    "2. **Collect all generated JSON files** into a single folder.\n",
    "\n",
    "3. **Generate the leaderboard submission file** by running the following cells. This will produce one JSON file formatted for the online leaderboard."
   ]
  },
  {
   "cell_type": "code",
   "execution_count": 1,
   "id": "9cc8c4af",
   "metadata": {},
   "outputs": [],
   "source": [
    "# Specify the folder containing the JSON files and the output JSON file\n",
    "input_folder = \"results\"  # <--- Modify your folder path\n",
    "output_json = \"en_results.json\""
   ]
  },
  {
   "cell_type": "code",
   "execution_count": null,
   "id": "901beee8",
   "metadata": {},
   "outputs": [],
   "source": [
    "import os\n",
    "import json\n",
    "\n",
    "def process_json_files(input_folder, output_json):\n",
    "    # List to hold the processed data\n",
    "    models_data = {}\n",
    "\n",
    "    # Iterate over all files in the folder\n",
    "    for filename in os.listdir(input_folder):\n",
    "        if filename.endswith(\".json\"):\n",
    "            file_path = os.path.join(input_folder, filename)\n",
    "            with open(file_path, 'r') as file:\n",
    "                data = json.load(file)\n",
    "\n",
    "                # Extract necessary details\n",
    "                model_name = filename.rsplit('.', 1)[0]  # Remove the extension\n",
    "                leaderboard_detailed_style = data[\"metrics\"][\"leaderboard_detailed_style\"]\n",
    "\n",
    "                # Collect the application results in the required format\n",
    "                application_results = {}\n",
    "                for app, values in leaderboard_detailed_style.items():\n",
    "                    app_name = app.split(\"app:\", 1)[-1]\n",
    "                    application_results[app_name] = {\n",
    "                        \"icon\": values[\"icon_acc\"],\n",
    "                        \"text\": values[\"text_acc\"],\n",
    "                        \"avg\": values[\"action_acc\"]\n",
    "                    }\n",
    "\n",
    "                leaderboard_simiple = data[\"metrics\"][\"leaderboard_simple_style\"]\n",
    "\n",
    "                # Read data directly from the leaderboard\n",
    "                group_results = {}\n",
    "                group_names = [\"Dev\", \"Creative\", \"CAD\", \"Scientific\", \"Office\", \"OS\"]\n",
    "\n",
    "                # Loop through each group and extract the relevant information\n",
    "                for group in group_names:\n",
    "                    group_results[group] = {\n",
    "                        \"icon\": leaderboard_simiple[f\"group:{group}\"][\"icon_acc\"],\n",
    "                        \"text\": leaderboard_simiple[f\"group:{group}\"][\"text_acc\"],\n",
    "                        \"avg\": leaderboard_simiple[f\"group:{group}\"][\"action_acc\"],\n",
    "                    }\n",
    "\n",
    "                # Add the results to the dictionary\n",
    "                models_data[model_name] = {\n",
    "                    \"link\": \"\",\n",
    "                    \"description\": \"\",\n",
    "                    \"results\": {\n",
    "                        \"group\": group_results,\n",
    "                        \"application\": application_results,\n",
    "                        \"overall\": {\n",
    "                            \"icon\": data[\"metrics\"][\"overall\"][\"icon_acc\"],\n",
    "                            \"text\": data[\"metrics\"][\"overall\"][\"text_acc\"],\n",
    "                            \"avg\": data[\"metrics\"][\"overall\"][\"action_acc\"]\n",
    "                        }\n",
    "                    },\n",
    "                    \n",
    "                }\n",
    "\n",
    "    # Save the processed data to a new JSON file\n",
    "    with open(output_json, 'w') as output_file:\n",
    "        json.dump(models_data, output_file, indent=4)\n",
    "\n",
    "    print(f\"Data has been saved to {output_json}\")\n",
    "\n",
    "\n",
    "# Process the JSON files\n",
    "process_json_files(input_folder, output_json)"
   ]
  },
  {
   "cell_type": "markdown",
   "id": "d27885e1",
   "metadata": {},
   "source": [
    "You may want to manually check the generated file to add descriptions and links to your model."
   ]
  },
  {
   "cell_type": "markdown",
   "id": "753a0cd2",
   "metadata": {},
   "source": [
    "# Submission\n",
    "\n",
    "Please send the following files to likaixin@u.nus.edu to make a submission:\n",
    "\n",
    "1. **Evaluation result files** \n",
    "2. **Leaderboard JSON** (generated above)\n",
    "3. a document and/or link to the codebase for replication."
   ]
  }
 ],
 "metadata": {
  "kernelspec": {
   "display_name": "gui",
   "language": "python",
   "name": "python3"
  },
  "language_info": {
   "codemirror_mode": {
    "name": "ipython",
    "version": 3
   },
   "file_extension": ".py",
   "mimetype": "text/x-python",
   "name": "python",
   "nbconvert_exporter": "python",
   "pygments_lexer": "ipython3",
   "version": "3.13.5"
  }
 },
 "nbformat": 4,
 "nbformat_minor": 5
}
